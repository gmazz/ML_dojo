{
 "cells": [
  {
   "cell_type": "markdown",
   "source": [
    "## Introduction"
   ],
   "metadata": {}
  },
  {
   "cell_type": "markdown",
   "source": [
    "This notebook contains Pytorch code snippets for data processing and machine learning, starting from basic operations on tensor to simple neural network architectures. "
   ],
   "metadata": {}
  },
  {
   "cell_type": "code",
   "execution_count": 1,
   "source": [
    "import numpy as np\n",
    "import pandas as pd\n",
    "import torch "
   ],
   "outputs": [],
   "metadata": {}
  },
  {
   "cell_type": "code",
   "execution_count": 2,
   "source": [
    "''' Standard commands for defining tensors '''\n",
    "\n",
    "# Define a standard tensor with float numbers (default)\n",
    "std_t = torch.tensor([[0.1, 0.2],[0.3, 0.4]])\n",
    "# Define a tensor of int32, passing explicit dtype\n",
    "int_t = torch.tensor([[1,2],[3,4]], dtype=torch.int32)\n",
    "# Define an identity tensor\n",
    "i = torch.eye(4,4)\n",
    "# Define a random tensor\n",
    "rand_t = torch.rand(3,3)\n",
    "# Define a tensor of zeros\n",
    "zeros_t = torch.zeros(2,3)\n",
    "# Define a tensor of ones\n",
    "ones_t = torch.ones(4,4)\n",
    "# Define a full tensor with same value\n",
    "full_t = torch.full((4,4), 0.16)\n",
    "#Define a tensor with a range of integers\n",
    "arange_t = torch.arange(1,10, step=2)\n",
    "# Define a tensor of linearly spaced numbers  \n",
    "lin_t = torch.linspace(0, 30, steps=10)\n",
    "# Define a tensor with logarithmically spaced numbers\n",
    "log_t = torch.logspace(-10, 10, steps=10)\n",
    "\n",
    "\n",
    "''' Reshaping a tensor '''\n",
    "\n",
    "t = torch.zeros(15)\n",
    "# Get the shape of the tensor\n",
    "t.shape\n",
    "# Reshaping a tensor (note: the new shape need to be compatible with the original tensor)\n",
    "t.view(3,5)\n",
    "\n",
    "\n",
    "''' Concatenatig tensors '''"
   ],
   "outputs": [
    {
     "output_type": "execute_result",
     "data": {
      "text/plain": [
       "' Concatenatig tensors '"
      ]
     },
     "metadata": {},
     "execution_count": 2
    }
   ],
   "metadata": {}
  },
  {
   "cell_type": "code",
   "execution_count": null,
   "source": [],
   "outputs": [],
   "metadata": {}
  }
 ],
 "metadata": {
  "kernelspec": {
   "name": "python3",
   "display_name": "Python 3.9.6 64-bit ('py3': conda)"
  },
  "language_info": {
   "codemirror_mode": {
    "name": "ipython",
    "version": 3
   },
   "file_extension": ".py",
   "mimetype": "text/x-python",
   "name": "python",
   "nbconvert_exporter": "python",
   "pygments_lexer": "ipython3",
   "version": "3.9.6"
  },
  "interpreter": {
   "hash": "88b3033f9f572dd20286922584b22c47fcf122dc537f10fc8a343413e6cc6f90"
  }
 },
 "nbformat": 4,
 "nbformat_minor": 5
}